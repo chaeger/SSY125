{
 "cells": [
  {
   "cell_type": "markdown",
   "id": "0359d1dd",
   "metadata": {},
   "source": [
    "# Channel Capacity and Random Coding\n",
    "The purpose behind this notebook is to get some intuition behind the operational meaning of the channel capacity. To that end, we will use something called random coding, where the main idea is to design codebooks by choosing each symbol at random according to the capacity-achieving input distribution.  \n",
    "\n",
    "It may be somewhat surprising that this way we can actually design quite \"good\" coding schemes with just a few simple lines of Python code. The caveat is that these schemes will have very low rates. Nonetheless, the important thing is that, at least in principle, the exact same random coding procedure also works for higher rates, and this is in fact how one can proof the channel coding theorem. \n",
    "\n",
    "## The AWGN Channel\n",
    "\n",
    "We will start by considering the discrete-time real-valued additive white Gaussian noise (AWGN) channel $y = x + n$, where $x \\in \\mathbb{R}$ is the channel input, $n \\sim \\mathcal{N}(0, \\sigma^2)$ is Gaussian noise, and $y \\in \\mathbb{R}$ is the channel output. Assuming that the input $x$ has to satisfy the input constraint $\\mathbb{E}[X^2] \\leq E_s$, the capacity for this channel is \n",
    "\n",
    "$$C = \\frac{1}{2} \\log_2(1 + \\text{SNR}), $$\n",
    "\n",
    "where $\\text{SNR} = E_s/\\sigma^2$. In the following, we assume that $E_s = 1$ without loss of generality. "
   ]
  },
  {
   "cell_type": "code",
   "execution_count": 1,
   "id": "10615c3d",
   "metadata": {},
   "outputs": [],
   "source": [
    "import numpy as np\n",
    "from scipy.optimize import fsolve\n",
    "import matplotlib.pyplot as plt\n",
    "from tqdm.notebook import tqdm"
   ]
  },
  {
   "cell_type": "markdown",
   "id": "d07e7fe5",
   "metadata": {},
   "source": [
    "First, we define our code parameters, where $R = \\log_2(M)/N$, $M$ is the number of codewords, and $N$ is the length of each codeword. Here, M is computed based on the chosen $R$ and $N$. "
   ]
  },
  {
   "cell_type": "code",
   "execution_count": 27,
   "id": "5cd371ff",
   "metadata": {},
   "outputs": [
    {
     "name": "stdout",
     "output_type": "stream",
     "text": [
      "number of messages: M = 1024\n"
     ]
    }
   ],
   "source": [
    "R = 0.01 # we have to pick a very low rate for this to work\n",
    "N = 1000 # codeword length\n",
    "M = int(2**(R*N)) # M is the number of codewords and log2(M) is the number of corresponding transmitted bits\n",
    "print('number of messages: M = {}'.format(M))"
   ]
  },
  {
   "cell_type": "markdown",
   "id": "ecf4009a",
   "metadata": {},
   "source": [
    "After we have fixed our desired code parameters, we can resort to the above capacity formula in order to calculate how much SNR we need for reliable transmission. "
   ]
  },
  {
   "cell_type": "code",
   "execution_count": 28,
   "id": "965e6f14",
   "metadata": {},
   "outputs": [
    {
     "name": "stdout",
     "output_type": "stream",
     "text": [
      "To support a transmission rate R = 0.01 [bits/channel use], we need at least SNR = -18.55 dB\n"
     ]
    }
   ],
   "source": [
    "SNRc = 2**(2*R)-1 # SNR = 1/sigma2\n",
    "SNRc_dB = 10*np.log10(SNRc)\n",
    "sigma2_cap = 1/SNRc\n",
    "print('To support a transmission rate R = {} [bits/channel use], we need at least SNR = {:.2f} dB'.format(R, SNRc_dB))"
   ]
  },
  {
   "cell_type": "markdown",
   "id": "f8745a5e",
   "metadata": {},
   "source": [
    "### Codebook Generation"
   ]
  },
  {
   "cell_type": "markdown",
   "id": "98e6a106",
   "metadata": {},
   "source": [
    "We consider two different types of codebooks: \n",
    "- The first is based on Gaussian symbols, according to the capacity-achieving input distribution\n",
    "- The second is based on binary BPSK signaling, i.e., either +1 or -1 with equal probability. We know that for low rates (power-limited regime) the performance penality will be very small (try it!). "
   ]
  },
  {
   "cell_type": "code",
   "execution_count": 6,
   "id": "ebf2f5b6",
   "metadata": {},
   "outputs": [],
   "source": [
    "def generate_codebook(M, N):\n",
    "    return np.random.normal(0, 1, size=[M, N]) # every row is a codword (of length N)\n",
    "\n",
    "def generate_bpsk_codebook(M, N): \n",
    "    return 1-2*np.random.randint(0, 2, size=[M, N]) # every row is a codword (of length N)"
   ]
  },
  {
   "cell_type": "markdown",
   "id": "41cfc68c",
   "metadata": {},
   "source": [
    "*How can we transmit anything useful if all the codewords are just random and look like noise?* This is a common misconception regarding random coding. However, it is important to realize that, once we have generated the codebook, it is assumed to be fixed and available at both the transmitter and receiver. After this point, the encoding process is not at all \"random\" anymore but consists of a deterministic mapping from our messages (or, equivalently, from a sequence of information bits) to individual codewords. \n",
    "\n",
    "Let us illustrate this. First we generate the codebook: "
   ]
  },
  {
   "cell_type": "code",
   "execution_count": 23,
   "id": "5282c9b2",
   "metadata": {},
   "outputs": [],
   "source": [
    "C = generate_codebook(M, N)"
   ]
  },
  {
   "cell_type": "markdown",
   "id": "1ecb6fd4",
   "metadata": {},
   "source": [
    "From now on, we assume that the codebook is fixed and known at the transmitter and receiver. We can for example check if the codebook satisfies (approximately) our constraint for the average symbol energy (which we assume is normalized to 1): "
   ]
  },
  {
   "cell_type": "code",
   "execution_count": 8,
   "id": "b72f12a7",
   "metadata": {},
   "outputs": [
    {
     "data": {
      "text/plain": [
       "array([0.9882526 , 0.99284075, 0.93109079, ..., 1.04274522, 0.9518482 ,\n",
       "       0.96682781])"
      ]
     },
     "execution_count": 8,
     "metadata": {},
     "output_type": "execute_result"
    }
   ],
   "source": [
    "np.mean(C**2, axis=1) # check that the average symbol energy for each codeword is close to 1"
   ]
  },
  {
   "cell_type": "markdown",
   "id": "3f6fc897",
   "metadata": {},
   "source": [
    "There may be some slight deviations from 1 so we could renormalize by the maximum to strictly enforce the constraint. However, let us proceed without renormalization to keep it simple. \n"
   ]
  },
  {
   "cell_type": "markdown",
   "id": "90722515",
   "metadata": {},
   "source": [
    "### Transmission and Decoding\n",
    "Next, let's pick a message at random and transmit it over the channel: "
   ]
  },
  {
   "cell_type": "code",
   "execution_count": 9,
   "id": "c1b9dcad",
   "metadata": {},
   "outputs": [],
   "source": [
    "m = np.random.randint(0, M) # pick a message at random\n",
    "x = C[m,:] # select the corresponding codeword\n",
    "y = x + np.random.normal(0, np.sqrt(sigma2_cap/100), size=[N]) # transmit over the AWGN channel "
   ]
  },
  {
   "cell_type": "markdown",
   "id": "28b4152e",
   "metadata": {},
   "source": [
    "Now we have to decode the message. Decoding means to select the most likely message, given the received observation $\\boldsymbol{y}$. The optimal decoder in this case can be shown to be the minimum (Euclidean) distance decoder. For our randomly generated codebook, we have to resort to brute-force computing of the Euclidean distance (or squared Euclidean distance) between the observation and each codeword and then picking the minimum: "
   ]
  },
  {
   "cell_type": "code",
   "execution_count": 10,
   "id": "ae4464d5",
   "metadata": {},
   "outputs": [],
   "source": [
    "m_hat = np.argmin(np.mean((C-y)**2, axis=1)) # minimum (Euclidean) distance decoding"
   ]
  },
  {
   "cell_type": "code",
   "execution_count": 11,
   "id": "c54cfdc2",
   "metadata": {},
   "outputs": [
    {
     "name": "stdout",
     "output_type": "stream",
     "text": [
      "Transmitted message: 259\n",
      "Received message: 259\n"
     ]
    }
   ],
   "source": [
    "print('Transmitted message: {}'.format(m))\n",
    "print('Received message: {}'.format(m))"
   ]
  },
  {
   "cell_type": "markdown",
   "id": "b221a6d1",
   "metadata": {},
   "source": [
    "Since we picked the SNR far higher than the capacity limit (scaling down the noise variance $\\sigma^2$ by a factor 100), it is very likely that we correctly decoded the message. "
   ]
  },
  {
   "cell_type": "markdown",
   "id": "2ed7551d",
   "metadata": {},
   "source": [
    "### Monte Carlo Evaluation of the Error Probability\n",
    "\n",
    "The following function combines the entire end-to-end simulation for a single codeword. It returns 0 if the message was transmitted correctly and 1 if there was an error. "
   ]
  },
  {
   "cell_type": "code",
   "execution_count": 24,
   "id": "eef8abee",
   "metadata": {},
   "outputs": [],
   "source": [
    "def transmit_one_codeword(sigma2):\n",
    "    m = np.random.randint(0, M)\n",
    "    x = C[m,:] # select a random codeword\n",
    "    y = x + np.random.normal(0, np.sqrt(sigma2), size=[N]) # transmit over the channel \n",
    "    m_hat = np.argmin(np.mean((C-y)**2, axis=1)) # minimum (Euclidean) distance decoding\n",
    "    return int(m_hat != m)"
   ]
  },
  {
   "cell_type": "markdown",
   "id": "5fc8dcfc",
   "metadata": {},
   "source": [
    "From this, we can estimate the error probablity using Monte Carlo evaluation for different SNRs that are \"close\" to the capacity limit:"
   ]
  },
  {
   "cell_type": "code",
   "execution_count": 25,
   "id": "ae9d681a",
   "metadata": {},
   "outputs": [
    {
     "data": {
      "application/vnd.jupyter.widget-view+json": {
       "model_id": "8c6a929b4a4a4382adf2dfe491d20f1b",
       "version_major": 2,
       "version_minor": 0
      },
      "text/plain": [
       "HBox(children=(HTML(value=''), FloatProgress(value=0.0, max=7.0), HTML(value='')))"
      ]
     },
     "metadata": {},
     "output_type": "display_data"
    },
    {
     "name": "stdout",
     "output_type": "stream",
     "text": [
      "\n"
     ]
    }
   ],
   "source": [
    "dB_off = np.arange(-6, 8, 2)\n",
    "LL = dB_off.shape[0]\n",
    "KK = 1500 # number of codewords for each Monte Carlo evaluation\n",
    "Pe = np.zeros(LL)\n",
    "\n",
    "for i in tqdm(range(LL)):\n",
    "    tmp = 0\n",
    "    SNR_dB = SNRc_dB + dB_off[i]\n",
    "    sigma2 = 1/10**(SNR_dB/10)\n",
    "    for j in range(KK): \n",
    "        tmp = tmp + transmit_one_codeword(sigma2)\n",
    "    Pe[i] = tmp/KK"
   ]
  },
  {
   "cell_type": "code",
   "execution_count": 21,
   "id": "2d98cd56",
   "metadata": {},
   "outputs": [],
   "source": [
    "Pe_save = Pe # save a previous run to compare different values for N"
   ]
  },
  {
   "cell_type": "code",
   "execution_count": 26,
   "id": "beb410d8",
   "metadata": {
    "scrolled": true
   },
   "outputs": [
    {
     "data": {
      "image/png": "[encoded data removed]",
      "text/plain": [
       "<Figure size 432x288 with 1 Axes>"
      ]
     },
     "metadata": {
      "needs_background": "light"
     },
     "output_type": "display_data"
    }
   ],
   "source": [
    "plt.plot(dB_off, Pe_save, label='N = 200')\n",
    "plt.plot(dB_off, Pe, label='N = {}'.format(N))\n",
    "plt.plot([0, 0], [0, 1])\n",
    "plt.ylabel('error probability Pe')\n",
    "plt.xlabel('SNR offset from capacity limit [dB]')\n",
    "plt.ylim(0,1)\n",
    "plt.grid()\n",
    "plt.legend()\n",
    "plt.show()"
   ]
  },
  {
   "cell_type": "markdown",
   "id": "17e1c506",
   "metadata": {},
   "source": [
    "From the above figure, we can see what happens as $N$ increases: The curves become more steep. Eventually, as $N \\to \\infty$, the curves will exhibit a sharp threshold behavior, precisely at the capacity limit. In other words, reliable communication with arbitrarily low error rates is possible only if the SNR is chosen larger than the limit. This is the operational meaning of the channel capacity. \n",
    "\n",
    "Random coding can indeed approach the capacity (and it is used in proofs), but it is impractical to implement in a real system. For example, increasing the $N$ beyond 1000 will eventually lead to memory issues, since random coding requires us to store the entire codebook. "
   ]
  },
  {
   "cell_type": "markdown",
   "id": "abff38ee",
   "metadata": {},
   "source": [
    "# The Binary Symmetric Channel (BSC)"
   ]
  },
  {
   "cell_type": "markdown",
   "id": "3a81951b",
   "metadata": {},
   "source": [
    "We can proceed in pretty much the same also for the BSC, starting with the code parameters:"
   ]
  },
  {
   "cell_type": "code",
   "execution_count": 43,
   "id": "77731940",
   "metadata": {},
   "outputs": [
    {
     "name": "stdout",
     "output_type": "stream",
     "text": [
      "number of messages: M = 1024\n"
     ]
    }
   ],
   "source": [
    "R = 0.01 # we have to pick a very low rate for this to work\n",
    "N = 1000 # codeword length\n",
    "M = int(2**(R*N)) # M is the number of codewords and log2(M) is the number of corresponding transmitted bits\n",
    "print('number of messages: M = {}'.format(M))"
   ]
  },
  {
   "cell_type": "markdown",
   "id": "a00769d9",
   "metadata": {},
   "source": [
    "For the BSC with error probability $p$, we recall that the channel capacity is\n",
    "\n",
    "$$ C = 1 - H_b(p), $$\n",
    "\n",
    "where $H_b(p)$ is the binary entropy function:"
   ]
  },
  {
   "cell_type": "code",
   "execution_count": 33,
   "id": "50bb9cf3",
   "metadata": {},
   "outputs": [],
   "source": [
    "def BinEntropy(p): \n",
    "    if p <= 0: \n",
    "        return 0\n",
    "    elif p >= 0.5:\n",
    "        return 1\n",
    "    else:\n",
    "        return p*np.log2(1/p)+(1-p)*np.log2(1/(1-p))"
   ]
  },
  {
   "cell_type": "markdown",
   "id": "132f3e6e",
   "metadata": {},
   "source": [
    "Unlike for the AWGN channel, there is unfortunately no closed-form solution to invert this expression and find the minimum $p$ required to support a given rate $R$. Therefore, we have to resort to numerical inversion: "
   ]
  },
  {
   "cell_type": "code",
   "execution_count": 34,
   "id": "ca5d7d16",
   "metadata": {},
   "outputs": [],
   "source": [
    "def MyF(t, *data):\n",
    "    return (1 - BinEntropy(t)) - data[0]\n",
    "\n",
    "def BinEntropyInv(R): \n",
    "    if R <= 0: \n",
    "        return 0\n",
    "    if R >= 1:\n",
    "        return 0.5\n",
    "    myfun = (BinEntropy(t) - R)\n",
    "    return fzero(myfun, [0.2])"
   ]
  },
  {
   "cell_type": "code",
   "execution_count": 35,
   "id": "26d8875c",
   "metadata": {},
   "outputs": [
    {
     "name": "stdout",
     "output_type": "stream",
     "text": [
      "[0.44119761]\n"
     ]
    }
   ],
   "source": [
    "p_cap = fsolve(MyF, 0.0, args=R)\n",
    "print(p_cap)"
   ]
  },
  {
   "cell_type": "markdown",
   "id": "a5dc3055",
   "metadata": {},
   "source": [
    "Sanity check that this gives indeed the desired rate: "
   ]
  },
  {
   "cell_type": "code",
   "execution_count": 36,
   "id": "e00cfc90",
   "metadata": {},
   "outputs": [
    {
     "data": {
      "text/plain": [
       "array([0.01])"
      ]
     },
     "execution_count": 36,
     "metadata": {},
     "output_type": "execute_result"
    }
   ],
   "source": [
    "1-BinEntropy(p_cap)"
   ]
  },
  {
   "cell_type": "markdown",
   "id": "6883e3e0",
   "metadata": {},
   "source": [
    "### Codebook Generation\n",
    "\n",
    "The codebook generation works similar to before, but now all symbols are IID bits with $Pr(0) = Pr(1) = 0.5$ which is the capacity-achieving input distribution for the BSC:"
   ]
  },
  {
   "cell_type": "code",
   "execution_count": 44,
   "id": "ab9e28ad",
   "metadata": {},
   "outputs": [],
   "source": [
    "def generate_binary_codebook(M, N):\n",
    "    return np.random.randint(0, 2, size=[M, N]) # every row is a binary codword (of length N)"
   ]
  },
  {
   "cell_type": "code",
   "execution_count": 45,
   "id": "5b27cbab",
   "metadata": {},
   "outputs": [],
   "source": [
    "C = generate_binary_codebook(M, N)"
   ]
  },
  {
   "cell_type": "markdown",
   "id": "c92d731d",
   "metadata": {},
   "source": [
    "### Monte Carlo Evaluation\n",
    "\n",
    "The main difference compared to the AWGN is that optimal decoding corresponds to minimum Hamming distance decoding. The general procedure, however, is the same: compare the received word with each codeword in the codebook in terms of Hamming distance, and then choose the minimum. "
   ]
  },
  {
   "cell_type": "code",
   "execution_count": 46,
   "id": "305a249c",
   "metadata": {},
   "outputs": [],
   "source": [
    "def transmit_one_codeword(p):\n",
    "    m = np.random.randint(0, M)\n",
    "    x = C[m,:] # select a random codeword\n",
    "    n = (np.random.uniform(0, 1, size=[N]) < p).astype(int)\n",
    "    y = np.mod(x + n, 2) # transmit over the channel \n",
    "    m_hat = np.argmin(np.sum(np.mod(C+y, 2), axis=1)) # minimum (Hamming) distance decoding\n",
    "    return int(m_hat != m)"
   ]
  },
  {
   "cell_type": "code",
   "execution_count": 47,
   "id": "f83e2772",
   "metadata": {},
   "outputs": [
    {
     "data": {
      "application/vnd.jupyter.widget-view+json": {
       "model_id": "a7f2c30e286e43b3a2ae742580711cd8",
       "version_major": 2,
       "version_minor": 0
      },
      "text/plain": [
       "HBox(children=(HTML(value=''), FloatProgress(value=0.0, max=7.0), HTML(value='')))"
      ]
     },
     "metadata": {},
     "output_type": "display_data"
    },
    {
     "name": "stdout",
     "output_type": "stream",
     "text": [
      "\n"
     ]
    }
   ],
   "source": [
    "p_off = np.arange(-0.06, 0.07, 0.02)\n",
    "\n",
    "LL = p_off.shape[0]\n",
    "KK = 1500 # number of codewords for each Monte Carlo evaluation\n",
    "Pe = np.zeros(LL)\n",
    "\n",
    "for i in tqdm(range(LL)):\n",
    "    tmp = 0\n",
    "    p = p_cap + p_off[i]\n",
    "    for j in range(KK): \n",
    "        tmp = tmp + transmit_one_codeword(p)\n",
    "    Pe[i] = tmp/KK"
   ]
  },
  {
   "cell_type": "code",
   "execution_count": 48,
   "id": "8a7048e8",
   "metadata": {},
   "outputs": [
    {
     "data": {
      "image/png": "[encoded data removed]",
      "text/plain": [
       "<Figure size 432x288 with 1 Axes>"
      ]
     },
     "metadata": {
      "needs_background": "light"
     },
     "output_type": "display_data"
    }
   ],
   "source": [
    "plt.plot(p_cap+p_off, Pe_save, label='N = 200')\n",
    "plt.plot(p_cap+p_off, Pe, label='N = {}'.format(N))\n",
    "plt.plot([p_cap, p_cap], [0, 1])\n",
    "plt.ylabel('error probability Pe')\n",
    "plt.xlabel('p')\n",
    "plt.ylim(0,1)\n",
    "plt.grid()\n",
    "plt.legend()\n",
    "plt.show()"
   ]
  },
  {
   "cell_type": "code",
   "execution_count": 42,
   "id": "078d3158",
   "metadata": {},
   "outputs": [],
   "source": [
    "Pe_save = Pe"
   ]
  }
 ],
 "metadata": {
  "kernelspec": {
   "display_name": "Python 3 (ipykernel)",
   "language": "python",
   "name": "python3"
  },
  "language_info": {
   "codemirror_mode": {
    "name": "ipython",
    "version": 3
   },
   "file_extension": ".py",
   "mimetype": "text/x-python",
   "name": "python",
   "nbconvert_exporter": "python",
   "pygments_lexer": "ipython3",
   "version": "3.7.3"
  }
 },
 "nbformat": 4,
 "nbformat_minor": 5
}
